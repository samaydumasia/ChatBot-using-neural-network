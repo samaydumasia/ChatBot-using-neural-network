{
  "nbformat": 4,
  "nbformat_minor": 0,
  "metadata": {
    "colab": {
      "name": "Copy of NLP2using keras.ipynb",
      "provenance": [],
      "collapsed_sections": []
    },
    "kernelspec": {
      "name": "python3",
      "display_name": "Python 3"
    }
  },
  "cells": [
    {
      "cell_type": "code",
      "metadata": {
        "id": "3U0DTBh7Ri0-",
        "outputId": "fbd5384b-7c22-40bd-ad64-9ac0e6ccc4e3",
        "colab": {
          "base_uri": "https://localhost:8080/",
          "height": 52
        }
      },
      "source": [
        "! git clone https://github.com/sathvikg/ChatBot-using-neural-network.git"
      ],
      "execution_count": 2,
      "outputs": [
        {
          "output_type": "stream",
          "text": [
            "Cloning into 'ChatBot-using-neural-network'...\n",
            "warning: You appear to have cloned an empty repository.\n"
          ],
          "name": "stdout"
        }
      ]
    },
    {
      "cell_type": "code",
      "metadata": {
        "id": "YYc0u-lpe-ic"
      },
      "source": [
        "# things we need for NLP\n",
        "\n",
        "import nltk\n",
        "from nltk.stem.lancaster import LancasterStemmer\n",
        "stemmer = LancasterStemmer()\n",
        "\n",
        "# things we need for Tensorflow\n",
        "import numpy as np\n",
        "import tensorflow as tf\n",
        "import random\n",
        "import warnings\n",
        "warnings.filterwarnings(\"ignore\")"
      ],
      "execution_count": 3,
      "outputs": []
    },
    {
      "cell_type": "code",
      "metadata": {
        "id": "H5wM6shrk_kT",
        "outputId": "da68e52d-914d-47b3-82a3-332ed3d3e0cb",
        "colab": {
          "base_uri": "https://localhost:8080/",
          "height": 35
        }
      },
      "source": [
        "from google.colab import drive\n",
        "drive.mount('/content/drive')"
      ],
      "execution_count": 4,
      "outputs": [
        {
          "output_type": "stream",
          "text": [
            "Mounted at /content/drive\n"
          ],
          "name": "stdout"
        }
      ]
    },
    {
      "cell_type": "markdown",
      "metadata": {
        "id": "7Js3TwLSosYw"
      },
      "source": [
        "TRAINING DATA\n"
      ]
    },
    {
      "cell_type": "code",
      "metadata": {
        "id": "oLncGUhCfEHW"
      },
      "source": [
        "\n",
        "# import training dataset\n",
        "import json\n",
        "with open('/content/drive/My Drive/NLP Project/compute help desk.json') as json_data:\n",
        "    intents = json.load(json_data)"
      ],
      "execution_count": 5,
      "outputs": []
    },
    {
      "cell_type": "code",
      "metadata": {
        "id": "rTNt4zC_jblL"
      },
      "source": [
        ""
      ],
      "execution_count": null,
      "outputs": []
    },
    {
      "cell_type": "code",
      "metadata": {
        "id": "DhG5P1jnjaNk",
        "outputId": "c667bd66-513f-4256-b3d1-0ecfdb5222e1",
        "colab": {
          "base_uri": "https://localhost:8080/",
          "height": 35
        }
      },
      "source": [
        "type(intents[\"intents\"])"
      ],
      "execution_count": null,
      "outputs": [
        {
          "output_type": "execute_result",
          "data": {
            "text/plain": [
              "list"
            ]
          },
          "metadata": {
            "tags": []
          },
          "execution_count": 48
        }
      ]
    },
    {
      "cell_type": "code",
      "metadata": {
        "id": "T6zW5-5bq3QD",
        "outputId": "2b08ffce-ce3c-446a-b9dc-e7a5e0ce21eb",
        "colab": {
          "base_uri": "https://localhost:8080/",
          "height": 52
        }
      },
      "source": [
        "nltk.download('punkt')\n",
        "vocab = []  # for vocabulary\n",
        "classes = [] #tags\n",
        "documents = [] # contain questions/ user inputs and the tags\n",
        "ignore_words = ['?']  #remove punctuations\n",
        "# loop through each sentence in our intents patterns\n",
        "for intent in intents['intents']:\n",
        "    for pattern in intent['patterns']:\n",
        "        # tokenize each word in the sentence\n",
        "        w = nltk.word_tokenize(pattern)\n",
        "        # add to our words list\n",
        "        vocab.extend(w)\n",
        "        # add to documents in our corpus\n",
        "        documents.append((w, intent['tag']))\n",
        "        # add to our classes list\n",
        "        if intent['tag'] not in classes:\n",
        "            classes.append(intent['tag'])\n",
        "\n",
        "# stem and lower each word and remove duplicates\n",
        "vocab = [stemmer.stem(w.lower()) for w in vocab if w not in ignore_words]  #converting the words to lower and then stemming the words\n",
        "vocab = sorted(list(set(vocab)))  #converting it to set so that it removes the duplicate words, and then again converting it to list\n"
      ],
      "execution_count": 6,
      "outputs": [
        {
          "output_type": "stream",
          "text": [
            "[nltk_data] Downloading package punkt to /root/nltk_data...\n",
            "[nltk_data]   Unzipping tokenizers/punkt.zip.\n"
          ],
          "name": "stdout"
        }
      ]
    },
    {
      "cell_type": "code",
      "metadata": {
        "id": "2fZEPFDzrHkQ",
        "outputId": "a2716d95-1ce0-4a4e-d5e7-739b8375ed19",
        "colab": {
          "base_uri": "https://localhost:8080/",
          "height": 108
        }
      },
      "source": [
        "classes = sorted(list(set(classes)))\n",
        "\n",
        "print (len(documents), \"documents\")\n",
        "print(documents)\n",
        "print (len(classes), \"classes\", classes)\n",
        "print (len(vocab), \"unique stemmed words\", vocab)"
      ],
      "execution_count": 7,
      "outputs": [
        {
          "output_type": "stream",
          "text": [
            "90 documents\n",
            "[(['Hi', 'there'], 'greeting'), (['Hello'], 'greeting'), (['Hola'], 'greeting'), (['Hey'], 'greeting'), (['Hi'], 'greeting'), (['Hello'], 'greeting'), (['Good', 'morning'], 'greeting'), (['Good', 'Evening'], 'greeting'), (['Bye'], 'goodbye'), (['See', 'you', 'later'], 'goodbye'), (['Goodbye'], 'goodbye'), (['Nice', 'chatting', 'to', 'you', ',', 'bye'], 'goodbye'), (['Till', 'next', 'time'], 'goodbye'), (['Bye', 'Chatbot'], 'goodbye'), (['no', 'bye'], 'goodbye'), (['Thanks'], 'thanks'), (['Thank', 'you'], 'thanks'), (['That', \"'s\", 'helpful'], 'thanks'), (['Awesome', ',', 'thanks'], 'thanks'), (['Thanks', 'for', 'helping', 'me'], 'thanks'), (['q'], 'noanswer'), (['random'], 'noanswer'), (['How', 'you', 'could', 'help', 'me', '?'], 'options'), (['What', 'you', 'can', 'do', '?'], 'options'), (['What', 'help', 'you', 'provide', '?'], 'options'), (['How', 'you', 'can', 'be', 'helpful', '?'], 'options'), (['What', 'support', 'is', 'offered'], 'options'), (['What', 'services', 'do', 'you', 'provide', '?'], 'options'), (['What', 'can', 'you', 'help', 'me', 'with'], 'options'), (['How', 'to', 'reset', 'my', 'password', '?'], 'Password Reset'), (['I', '’', 'm', 'unable', 'to', 'log', 'in', '!'], 'Password Reset'), (['My', 'Password', 'is', 'Lost', ',', 'need', 'to', 'Reset', '.'], 'Password Reset'), (['Open', 'password', 'reset', 'module'], 'Password Reset'), (['Reset', 'my', 'password'], 'Password Reset'), (['Forgot', 'password'], 'Password Reset'), (['how', 'do', 'i', 'reset', 'my', 'password', '?'], 'Password Reset'), (['Hi', ',', 'I', 'have', 'problem', 'with', 'my', 'password'], 'Password Reset'), (['Problem', 'with', 'Login', 'ID'], 'Password Reset'), (['@', 'gmail.com'], 'E-mail id'), (['@', 'outlook.com'], 'E-mail id'), (['@', 'yahoo.com'], 'E-mail id'), (['@', 'hotmail.in'], 'E-mail id'), (['I', '’', 've', 'got', 'the', 'dreaded', 'blue', 'screen', 'of', 'death', '!'], 'Blue Sreen issue'), (['blue', 'screen', 'issue'], 'Blue Sreen issue'), (['I', 'deleted', 'some', 'important', 'files', '!'], 'Deleted files'), (['Find', 'my', 'deleted', 'files'], 'Deleted files'), (['removed', 'neccesary', 'files'], 'Deleted files'), (['I', 'by', 'mistake', 'deleted', 'my', 'folders'], 'Deleted files'), (['Can', 'you', 'help', 'me', 'with', 'deleted', 'files', 'issue'], 'Deleted files'), (['I', 'am', 'unable', 'to', 'find', 'my', 'files'], 'Deleted files'), (['I', 'just', 'closed', 'my', 'document', 'without', 'saving', '!'], 'Unsaved Document'), (['Unsaved', 'Document'], 'Unsaved Document'), (['Forgot', 'to', 'save', 'my', 'work'], 'Unsaved Document'), (['Slow', 'Computer'], 'Slow Computer'), (['My', 'computer', 'is', 'running', 'too', 'slowly', '!'], 'Slow Computer'), (['Computer', 'is', 'not', 'fast'], 'Slow Computer'), (['My', 'computer', 'just', 'shut', 'down', 'unexpectedly', '!'], 'Unexpected Shut Down'), (['computer', 'shut', 'down', 'unexpected'], 'Unexpected Shut Down'), (['Computer', 'keeps', 'shutting', 'down'], 'Unexpected Shut Down'), (['computer', 'shutdown'], 'Unexpected Shut Down'), (['pc', 'shutdown'], 'Unexpected Shut Down'), (['I', 'can', '’', 't', 'print', 'anything', '!'], 'Printing issues'), (['Printing', 'issue'], 'Printing issues'), (['My', 'printer', 'isn', '’', 't', 'printing'], 'Printing issues'), (['Can', '’', 't', 'seem', 'to', 'use', 'my', 'department', '’', 's', 'printer'], 'Printing issues'), (['printer', 'is', 'not', 'working'], 'Printing issues'), (['Nothing', 'works'], 'Vague'), (['I', 'have', 'issues'], 'Vague'), (['I', 'need', 'Help'], 'Vague'), (['I', 'have', 'problems'], 'Vague'), (['I', 'have', 'virus', 'in', 'my', 'laptop'], 'Virus'), (['Virus', 'issues'], 'Virus'), (['Computer', 'has', 'a', 'virus'], 'Virus'), (['I', 'have', 'problems'], 'Virus'), (['My', 'Mouse', 'is', 'not', 'working'], 'Mouse'), (['The', 'mouse', 'is', 'dead'], 'Mouse'), (['Bluetooth', 'mouse', 'not', 'working'], 'Mouse'), (['Mouse', 'issues'], 'Mouse'), (['trackpad', 'not', 'working'], 'Mouse'), (['I', 'need', 'help', 'with', 'trackpad', 'problems'], 'Mouse'), (['My', 'computer', 'does', 'not', 'recognise', 'my', 'USB', 'device', '!'], 'USB'), (['Okay', 'so', 'i', 'need', 'help', 'with', 'pendrive'], 'USB'), (['USB', 'issues'], 'USB'), (['Pendrive', 'issues'], 'USB'), (['pendrive', 'is', 'not', 'detected'], 'USB'), (['My', 'internet', 'is', 'really', 'slow', '!'], 'Slow Internet'), (['slow', 'internet'], 'Slow Internet'), (['Can', 'not', 'connect', 'to', 'Internet'], 'Slow Internet'), (['Internet', 'is', 'not', 'fast'], 'Slow Internet'), (['My', 'Wi-Fi', 'keeps', 'dropping'], 'Slow Internet')]\n",
            "18 classes ['Blue Sreen issue', 'Deleted files', 'E-mail id', 'Mouse', 'Password Reset', 'Printing issues', 'Slow Computer', 'Slow Internet', 'USB', 'Unexpected Shut Down', 'Unsaved Document', 'Vague', 'Virus', 'goodbye', 'greeting', 'noanswer', 'options', 'thanks']\n",
            "137 unique stemmed words ['!', \"'s\", ',', '.', '@', 'a', 'am', 'anyth', 'awesom', 'be', 'blu', 'bluetoo', 'by', 'bye', 'can', 'chat', 'chatbot', 'clos', 'comput', 'connect', 'could', 'dea', 'dead', 'delet', 'depart', 'detect', 'dev', 'do', 'docu', 'doe', 'down', 'dread', 'drop', 'ev', 'fast', 'fil', 'find', 'fold', 'for', 'forgot', 'gmail.com', 'good', 'goodby', 'got', 'has', 'hav', 'hello', 'help', 'hey', 'hi', 'hol', 'hotmail.in', 'how', 'i', 'id', 'import', 'in', 'internet', 'is', 'isn', 'issu', 'just', 'keep', 'laptop', 'lat', 'log', 'login', 'lost', 'm', 'me', 'mistak', 'mod', 'morn', 'mous', 'my', 'necces', 'nee', 'next', 'nic', 'no', 'not', 'noth', 'of', 'off', 'okay', 'op', 'outlook.com', 'password', 'pc', 'pendr', 'print', 'problem', 'provid', 'q', 'random', 'real', 'recogn', 'remov', 'reset', 'run', 's', 'sav', 'screen', 'see', 'seem', 'serv', 'shut', 'shutdown', 'slow', 'so', 'som', 'support', 't', 'thank', 'that', 'the', 'ther', 'til', 'tim', 'to', 'too', 'trackpad', 'un', 'unexpect', 'unsav', 'us', 'usb', 've', 'vir', 'what', 'wi-f', 'with', 'without', 'work', 'yahoo.com', 'you', '’']\n"
          ],
          "name": "stdout"
        }
      ]
    },
    {
      "cell_type": "code",
      "metadata": {
        "id": "cGYS8nzrrW4f"
      },
      "source": [
        "# create our training data\n",
        "training = []\n",
        "# create an empty array for our output\n",
        "output = [0] * len(classes)\n",
        "\n",
        "# training set, bag of words for each sentence\n",
        "for doc in documents:\n",
        "    # initialize our bag of words\n",
        "    bag = []\n",
        "    # list of tokenized words for the pattern\n",
        "    pattern_words = doc[0]\n",
        "    # stem each word\n",
        "    pattern_words = [stemmer.stem(word.lower()) for word in pattern_words]\n",
        "    # create our bag of words array\n",
        "    for w in vocab:\n",
        "        bag.append(1) if w in pattern_words else bag.append(0)\n",
        "\n",
        "    # output is a '0' for each tag and '1' for current tag\n",
        "    output_row = list(output)\n",
        "    output_row[classes.index(doc[1])] = 1\n",
        "\n",
        "    training.append([bag, output_row])\n",
        "\n",
        "# shuffle our features and turn into np.array\n",
        "random.shuffle(training)\n",
        "training = np.array(training)\n",
        "\n",
        "# create train and test lists\n",
        "train_x = list(training[:,0])\n",
        "train_y = list(training[:,1])"
      ],
      "execution_count": 8,
      "outputs": []
    },
    {
      "cell_type": "code",
      "metadata": {
        "id": "K4tiiPz9fG87",
        "outputId": "eeb364c7-b37c-4e8d-efb6-57feca8953d6",
        "colab": {
          "base_uri": "https://localhost:8080/",
          "height": 72
        }
      },
      "source": [
        "print(\"training data input:\",train_x[0])\n",
        "print(\"training data output\",train_y[0])"
      ],
      "execution_count": 9,
      "outputs": [
        {
          "output_type": "stream",
          "text": [
            "training data input: [0, 0, 0, 0, 0, 0, 0, 0, 0, 0, 0, 0, 0, 0, 0, 0, 0, 0, 0, 0, 0, 0, 0, 0, 0, 0, 0, 0, 0, 0, 0, 0, 0, 0, 0, 0, 0, 0, 0, 0, 0, 0, 0, 0, 0, 0, 0, 0, 0, 0, 0, 0, 0, 0, 1, 0, 0, 0, 0, 0, 0, 0, 0, 0, 0, 0, 1, 0, 0, 0, 0, 0, 0, 0, 0, 0, 0, 0, 0, 0, 0, 0, 0, 0, 0, 0, 0, 0, 0, 0, 0, 1, 0, 0, 0, 0, 0, 0, 0, 0, 0, 0, 0, 0, 0, 0, 0, 0, 0, 0, 0, 0, 0, 0, 0, 0, 0, 0, 0, 0, 0, 0, 0, 0, 0, 0, 0, 0, 0, 0, 0, 1, 0, 0, 0, 0, 0]\n",
            "training data output [0, 0, 0, 0, 1, 0, 0, 0, 0, 0, 0, 0, 0, 0, 0, 0, 0, 0]\n"
          ],
          "name": "stdout"
        }
      ]
    },
    {
      "cell_type": "markdown",
      "metadata": {
        "id": "OsKAd5cOom-j"
      },
      "source": [
        "TESTING DATA \n",
        "\n"
      ]
    },
    {
      "cell_type": "code",
      "metadata": {
        "id": "4SLnnbA3a7OA"
      },
      "source": [
        "#import test data\n",
        "with open('/content/drive/My Drive/NLP Project/test1.json') as json_data2:\n",
        "  test = json.load(json_data2)"
      ],
      "execution_count": 10,
      "outputs": []
    },
    {
      "cell_type": "code",
      "metadata": {
        "id": "gnyvPqOLjWPw",
        "outputId": "eaddb1d4-996b-4fd3-8de4-e2c34dc83561",
        "colab": {
          "base_uri": "https://localhost:8080/",
          "height": 35
        }
      },
      "source": [
        "type(test[\"intents\"])"
      ],
      "execution_count": null,
      "outputs": [
        {
          "output_type": "execute_result",
          "data": {
            "text/plain": [
              "list"
            ]
          },
          "metadata": {
            "tags": []
          },
          "execution_count": 9
        }
      ]
    },
    {
      "cell_type": "code",
      "metadata": {
        "id": "yWe8DFGzX9xU"
      },
      "source": [
        "testing = []\n",
        "\n",
        "vocab2 = []  # for vocabulary\n",
        "classes2 = [] #tags\n",
        "documents2 = [] # contain questions/ user inputs and the tags\n",
        "ignore_words2 = ['?']  #remove punctuations\n",
        "# loop through each sentence in our intents patterns\n",
        "for intent in test['intents']:\n",
        "    for pattern in intent['patterns']:\n",
        "        # tokenize each word in the sentence\n",
        "        w = nltk.word_tokenize(pattern)\n",
        "        # add to our words list\n",
        "        vocab2.extend(w)\n",
        "        # add to documents in our corpus\n",
        "        documents2.append((w, intent['tag']))\n",
        "        # add to our classes list\n",
        "        if intent['tag'] not in classes2:\n",
        "            classes2.append(intent['tag'])\n",
        "\n",
        "# stem and lower each word and remove duplicates\n",
        "vocab2 = [stemmer.stem(w.lower()) for w in vocab2 if w not in ignore_words2]  #converting the words to lower and then stemming the words\n",
        "vocab2 = sorted(list(set(vocab2))) \n"
      ],
      "execution_count": 11,
      "outputs": []
    },
    {
      "cell_type": "code",
      "metadata": {
        "id": "bnnfp4JClIlG",
        "outputId": "8f03db51-0e5b-4a07-8d53-4e00ca2ad690",
        "colab": {
          "base_uri": "https://localhost:8080/",
          "height": 108
        }
      },
      "source": [
        "classes2 = sorted(list(set(classes2)))\n",
        "\n",
        "print (len(documents2), \"documents2\")\n",
        "print(documents2)\n",
        "print (len(classes2), \"classes\", classes2)\n",
        "print (len(vocab2), \"unique stemmed words2\", vocab2)"
      ],
      "execution_count": 12,
      "outputs": [
        {
          "output_type": "stream",
          "text": [
            "53 documents2\n",
            "[(['hai'], 'greeting'), (['helloi'], 'greeting'), (['heya'], 'greeting'), (['see', 'you'], 'goodbye'), (['bye', 'bye'], 'goodbye'), (['okay', 'thanks'], 'thanks'), (['that', 'helps'], 'thanks'), (['thanks', 'for', 'reply'], 'thanks'), (['this', 'is', 'not', 'working'], 'noanswer'), (['no', 'not', 'working'], 'noanswer'), (['what', 'is', 'your', 'job', '?'], 'options'), (['what', 'do', 'you', 'do'], 'options'), (['how', 'can', 'you', 'help', 'me'], 'options'), (['password', 'reset', 'issue'], 'Password Reset'), (['my', 'password', 'is', 'not', 'working'], 'Password Reset'), (['i', 'dont', 'remember', 'password'], 'Password Reset'), (['how', 'to', 'change', 'password'], 'Password Reset'), (['I', 'can', 'not', 'login'], 'Password Reset'), (['skdf', '@', 'gmail.com'], 'E-mail id'), (['sathvi', '@', 'yahoo.com'], 'E-mail id'), (['youme', '@', 'outlook.com'], 'E-mail id'), (['screen', 'blacked', 'out'], 'Blue Sreen issue'), (['my', 'screen', 'went', 'blue'], 'Blue Sreen issue'), (['blue', 'screen', 'issue'], 'Blue Sreen issue'), (['screen', 'is', 'blue'], 'Blue Sreen issue'), (['i', 'dont', 'find', 'my', 'files'], 'Deleted files'), (['where', 'can', 'i', 'find', 'deleted', 'files'], 'Deleted files'), (['i', 'did', \"n't\", 'save', 'the', 'document'], 'Unsaved Document'), (['i', 'closed', 'without', 'saving', ',', 'what', 'to', 'do', '?'], 'Unsaved Document'), (['computer', 'is', 'slow'], 'Slow Computer'), (['computer', 'is', 'working', 'very', 'slow'], 'Slow Computer'), (['why', 'is', 'computer', 'slow'], 'Slow Computer'), (['how', 'to', 'make', 'computer', 'work', 'fast'], 'Slow Computer'), (['my', 'computer', 'shut', 'down', 'suddenly'], 'Unexpected Shut Down'), (['computer', 'shutdown'], 'Unexpected Shut Down'), (['system', 'shutdown'], 'Unexpected Shut Down'), (['printer', 'not', 'working'], 'Printing issues'), (['printer', 'is', 'not', 'working'], 'Printing issues'), (['printing', 'is', 'not', 'working'], 'Printing issues'), (['its', 'not', 'working'], 'Vague'), (['something', 'is', 'wrong'], 'Vague'), (['there', 'is', 'virus'], 'Virus'), (['how', 'to', 'remove', 'virus'], 'Virus'), (['my', 'computer', 'has', 'virus'], 'Virus'), (['the', 'mouse', 'is', 'not', 'working'], 'Mouse'), (['mouse', 'cursor', 'not', 'showing'], 'Mouse'), (['mouse', 'problem'], 'Mouse'), (['usb', 'is', 'not', 'recognized'], 'USB'), (['pendrive', 'is', 'not', 'recognised'], 'USB'), (['usb', 'not', 'detected'], 'USB'), (['internet', 'is', 'slow'], 'Slow Internet'), (['no', 'internet', 'connection'], 'Slow Internet'), (['internet', 'not', 'working'], 'Slow Internet')]\n",
            "18 classes ['Blue Sreen issue', 'Deleted files', 'E-mail id', 'Mouse', 'Password Reset', 'Printing issues', 'Slow Computer', 'Slow Internet', 'USB', 'Unexpected Shut Down', 'Unsaved Document', 'Vague', 'Virus', 'goodbye', 'greeting', 'noanswer', 'options', 'thanks']\n",
            "87 unique stemmed words2 [',', '@', 'black', 'blu', 'bye', 'can', 'chang', 'clos', 'comput', 'connect', 'curs', 'delet', 'detect', 'did', 'do', 'docu', 'dont', 'down', 'fast', 'fil', 'find', 'for', 'gmail.com', 'hai', 'has', 'hello', 'help', 'hey', 'how', 'i', 'internet', 'is', 'issu', 'it', 'job', 'login', 'mak', 'me', 'mous', 'my', \"n't\", 'no', 'not', 'okay', 'out', 'outlook.com', 'password', 'pendr', 'print', 'problem', 'recogn', 'rememb', 'remov', 'reply', 'reset', 'sathv', 'sav', 'screen', 'see', 'show', 'shut', 'shutdown', 'skdf', 'slow', 'someth', 'sud', 'system', 'thank', 'that', 'the', 'ther', 'thi', 'to', 'usb', 'very', 'vir', 'went', 'what', 'wher', 'why', 'without', 'work', 'wrong', 'yahoo.com', 'yo', 'you', 'youm']\n"
          ],
          "name": "stdout"
        }
      ]
    },
    {
      "cell_type": "code",
      "metadata": {
        "id": "HAGgOa4BkkCg",
        "outputId": "a4afd55d-1e43-42de-c5ad-986da1e9654a",
        "colab": {
          "base_uri": "https://localhost:8080/",
          "height": 35
        }
      },
      "source": [
        "# create our training data\n",
        "testing = []\n",
        "#output = []\n",
        "# create an empty array for our output\n",
        "output2 = [0] * len(classes)\n",
        "print(len(output2))\n",
        "# training set, bag of words for each sentence\n",
        "for doc in documents2:\n",
        "    # initialize our bag of words\n",
        "    bag2 = []\n",
        "    # list of tokenized words for the pattern\n",
        "    pattern_words2 = doc[0]\n",
        "    # stem each word\n",
        "    pattern_words2 = [stemmer.stem(word.lower()) for word in pattern_words2]\n",
        "    # create our bag of words array\n",
        "    for w in vocab:\n",
        "        bag2.append(1) if w in pattern_words2 else bag2.append(0)\n",
        "\n",
        "    # output is a '0' for each tag and '1' for current tag\n",
        "    output_row2 = list(output2)\n",
        "    output_row2[classes.index(doc[1])] = 1\n",
        "\n",
        "    testing.append([bag2, output_row2])\n",
        "\n",
        "# shuffle our features and turn into np.array\n",
        "random.shuffle(testing)\n",
        "testing = np.array(testing)\n",
        "\n",
        "# create train and test lists\n",
        "test_x = list(testing[:,0])\n",
        "test_y = list(testing[:,1])\n"
      ],
      "execution_count": 13,
      "outputs": [
        {
          "output_type": "stream",
          "text": [
            "18\n"
          ],
          "name": "stdout"
        }
      ]
    },
    {
      "cell_type": "code",
      "metadata": {
        "id": "YxUoKMfHm2O9",
        "outputId": "771ac1f4-f644-4963-fcd7-bed61fb02729",
        "colab": {
          "base_uri": "https://localhost:8080/",
          "height": 35
        }
      },
      "source": [
        "len(test_x[0])"
      ],
      "execution_count": 14,
      "outputs": [
        {
          "output_type": "execute_result",
          "data": {
            "text/plain": [
              "137"
            ]
          },
          "metadata": {
            "tags": []
          },
          "execution_count": 14
        }
      ]
    },
    {
      "cell_type": "code",
      "metadata": {
        "id": "oHYyuf1ryn3o",
        "outputId": "63683429-0f9f-4b39-8227-ef10021763c6",
        "colab": {
          "base_uri": "https://localhost:8080/",
          "height": 35
        }
      },
      "source": [
        "len(train_x[0])"
      ],
      "execution_count": null,
      "outputs": [
        {
          "output_type": "execute_result",
          "data": {
            "text/plain": [
              "137"
            ]
          },
          "metadata": {
            "tags": []
          },
          "execution_count": 8
        }
      ]
    },
    {
      "cell_type": "code",
      "metadata": {
        "id": "dcLFB8Ps10Vt",
        "outputId": "537cf404-8fca-4b8b-f662-4989a49c117a",
        "colab": {
          "base_uri": "https://localhost:8080/",
          "height": 606
        }
      },
      "source": [
        "!pip install livelossplot\n",
        "import livelossplot\n",
        "plot_losses = livelossplot.PlotLossesKeras()\n",
        "plot_losses"
      ],
      "execution_count": 16,
      "outputs": [
        {
          "output_type": "stream",
          "text": [
            "Collecting livelossplot\n",
            "  Downloading https://files.pythonhosted.org/packages/0f/08/1884157a3de72d41fa97cacacafaa49abf00eba53cb7e08615b2b65b4a9d/livelossplot-0.5.3-py3-none-any.whl\n",
            "Requirement already satisfied: bokeh; python_version >= \"3.6\" in /usr/local/lib/python3.6/dist-packages (from livelossplot) (2.1.1)\n",
            "Requirement already satisfied: ipython in /usr/local/lib/python3.6/dist-packages (from livelossplot) (5.5.0)\n",
            "Requirement already satisfied: matplotlib; python_version >= \"3.6\" in /usr/local/lib/python3.6/dist-packages (from livelossplot) (3.2.2)\n",
            "Requirement already satisfied: pillow>=4.0 in /usr/local/lib/python3.6/dist-packages (from bokeh; python_version >= \"3.6\"->livelossplot) (7.0.0)\n",
            "Requirement already satisfied: tornado>=5.1 in /usr/local/lib/python3.6/dist-packages (from bokeh; python_version >= \"3.6\"->livelossplot) (5.1.1)\n",
            "Requirement already satisfied: python-dateutil>=2.1 in /usr/local/lib/python3.6/dist-packages (from bokeh; python_version >= \"3.6\"->livelossplot) (2.8.1)\n",
            "Requirement already satisfied: Jinja2>=2.7 in /usr/local/lib/python3.6/dist-packages (from bokeh; python_version >= \"3.6\"->livelossplot) (2.11.2)\n",
            "Requirement already satisfied: typing-extensions>=3.7.4 in /usr/local/lib/python3.6/dist-packages (from bokeh; python_version >= \"3.6\"->livelossplot) (3.7.4.3)\n",
            "Requirement already satisfied: numpy>=1.11.3 in /usr/local/lib/python3.6/dist-packages (from bokeh; python_version >= \"3.6\"->livelossplot) (1.18.5)\n",
            "Requirement already satisfied: PyYAML>=3.10 in /usr/local/lib/python3.6/dist-packages (from bokeh; python_version >= \"3.6\"->livelossplot) (3.13)\n",
            "Requirement already satisfied: packaging>=16.8 in /usr/local/lib/python3.6/dist-packages (from bokeh; python_version >= \"3.6\"->livelossplot) (20.4)\n",
            "Requirement already satisfied: setuptools>=18.5 in /usr/local/lib/python3.6/dist-packages (from ipython->livelossplot) (50.3.0)\n",
            "Requirement already satisfied: traitlets>=4.2 in /usr/local/lib/python3.6/dist-packages (from ipython->livelossplot) (4.3.3)\n",
            "Requirement already satisfied: simplegeneric>0.8 in /usr/local/lib/python3.6/dist-packages (from ipython->livelossplot) (0.8.1)\n",
            "Requirement already satisfied: decorator in /usr/local/lib/python3.6/dist-packages (from ipython->livelossplot) (4.4.2)\n",
            "Requirement already satisfied: pickleshare in /usr/local/lib/python3.6/dist-packages (from ipython->livelossplot) (0.7.5)\n",
            "Requirement already satisfied: prompt-toolkit<2.0.0,>=1.0.4 in /usr/local/lib/python3.6/dist-packages (from ipython->livelossplot) (1.0.18)\n",
            "Requirement already satisfied: pygments in /usr/local/lib/python3.6/dist-packages (from ipython->livelossplot) (2.6.1)\n",
            "Requirement already satisfied: pexpect; sys_platform != \"win32\" in /usr/local/lib/python3.6/dist-packages (from ipython->livelossplot) (4.8.0)\n",
            "Requirement already satisfied: pyparsing!=2.0.4,!=2.1.2,!=2.1.6,>=2.0.1 in /usr/local/lib/python3.6/dist-packages (from matplotlib; python_version >= \"3.6\"->livelossplot) (2.4.7)\n",
            "Requirement already satisfied: kiwisolver>=1.0.1 in /usr/local/lib/python3.6/dist-packages (from matplotlib; python_version >= \"3.6\"->livelossplot) (1.2.0)\n",
            "Requirement already satisfied: cycler>=0.10 in /usr/local/lib/python3.6/dist-packages (from matplotlib; python_version >= \"3.6\"->livelossplot) (0.10.0)\n",
            "Requirement already satisfied: six>=1.5 in /usr/local/lib/python3.6/dist-packages (from python-dateutil>=2.1->bokeh; python_version >= \"3.6\"->livelossplot) (1.15.0)\n",
            "Requirement already satisfied: MarkupSafe>=0.23 in /usr/local/lib/python3.6/dist-packages (from Jinja2>=2.7->bokeh; python_version >= \"3.6\"->livelossplot) (1.1.1)\n",
            "Requirement already satisfied: ipython-genutils in /usr/local/lib/python3.6/dist-packages (from traitlets>=4.2->ipython->livelossplot) (0.2.0)\n",
            "Requirement already satisfied: wcwidth in /usr/local/lib/python3.6/dist-packages (from prompt-toolkit<2.0.0,>=1.0.4->ipython->livelossplot) (0.2.5)\n",
            "Requirement already satisfied: ptyprocess>=0.5 in /usr/local/lib/python3.6/dist-packages (from pexpect; sys_platform != \"win32\"->ipython->livelossplot) (0.6.0)\n",
            "Installing collected packages: livelossplot\n",
            "Successfully installed livelossplot-0.5.3\n"
          ],
          "name": "stdout"
        },
        {
          "output_type": "execute_result",
          "data": {
            "text/plain": [
              "<livelossplot.inputs.keras.PlotLossesCallback at 0x7f1de5eae7f0>"
            ]
          },
          "metadata": {
            "tags": []
          },
          "execution_count": 16
        }
      ]
    },
    {
      "cell_type": "code",
      "metadata": {
        "id": "Jr7nFVGYrZyP",
        "outputId": "86c610e5-204f-428a-faeb-348c3ccd3810",
        "colab": {
          "base_uri": "https://localhost:8080/",
          "height": 674
        }
      },
      "source": [
        "\n",
        "#sequential neural network model\n",
        "\n",
        "model = tf.keras.Sequential([tf.keras.layers.Dense(16, input_shape = (None,len(train_x[0]))), # input layer \n",
        "                             tf.keras.layers.Dense(10), #hidden layer\n",
        "\n",
        "                             tf.keras.layers.Dense(len(train_y[0]),activation=\"softmax\"),]) #output layer\n",
        "model.compile(optimizer = \"adam\",loss = \"mean_squared_error\",metrics = ['accuracy'])\n",
        "model.fit(train_x, train_y, epochs=100, batch_size=8,callbacks=[plot_losses])\n",
        "model.save('model.keras')\n",
        "\n",
        "\n"
      ],
      "execution_count": 17,
      "outputs": [
        {
          "output_type": "display_data",
          "data": {
            "image/png": "[encoded data removed]",
            "text/plain": [
              "<Figure size 864x576 with 2 Axes>"
            ]
          },
          "metadata": {
            "tags": [],
            "needs_background": "light"
          }
        },
        {
          "output_type": "stream",
          "text": [
            "accuracy\n",
            "\taccuracy         \t (min:    0.022, max:    0.989, cur:    0.989)\n",
            "Loss\n",
            "\tloss             \t (min:    0.001, max:    0.052, cur:    0.001)\n",
            "\b\b\b\b\b\b\b\b\b\b\b\b\b\b\b\b\b\b\b\b\b\b\b\b\b\b\b\b\b\b\b\b\b\b\b\b\b\b\b\b\b\b\b\b\b\b\b\b\b\b\b\b\b\b\b\b\b\b\b\b\b\b\b\b\b\b\b\b\b\b\b\b\b\b\b\b\b\b\b\b\b\b\b\b\b\b\r12/12 [==============================] - 0s 35ms/step - loss: 9.5147e-04 - accuracy: 0.9889\n"
          ],
          "name": "stdout"
        }
      ]
    },
    {
      "cell_type": "code",
      "metadata": {
        "id": "3aOZ9fiDExdi",
        "outputId": "0410b511-4f25-448c-ab43-86724d3a6e6c",
        "colab": {
          "base_uri": "https://localhost:8080/",
          "height": 108
        }
      },
      "source": [
        "# Evaluation of the model with test data\n",
        "\n",
        "scores = model.evaluate(test_x,test_y)\n",
        "print(\"test loss:\",scores[0])\n",
        "print(\"test accuracy:\", scores[1])"
      ],
      "execution_count": 18,
      "outputs": [
        {
          "output_type": "stream",
          "text": [
            "WARNING:tensorflow:Model was constructed with shape (None, None, 137) for input Tensor(\"dense_input:0\", shape=(None, None, 137), dtype=float32), but it was called on an input with incompatible shape (None, 137).\n",
            "2/2 [==============================] - 0s 3ms/step - loss: 0.0124 - accuracy: 0.8491\n",
            "test loss: 0.012430863454937935\n",
            "test accuracy: 0.849056601524353\n"
          ],
          "name": "stdout"
        }
      ]
    },
    {
      "cell_type": "code",
      "metadata": {
        "id": "G2zf6tkAf8li",
        "outputId": "515878aa-cacf-4440-f065-852fffe47dc6",
        "colab": {
          "base_uri": "https://localhost:8080/",
          "height": 422
        }
      },
      "source": [
        "from keras.utils.vis_utils import plot_model\n",
        "\n",
        "plot_model(model, to_file='model_plot.png', show_shapes=True, show_layer_names=True)\n"
      ],
      "execution_count": 19,
      "outputs": [
        {
          "output_type": "execute_result",
          "data": {
            "image/png": "[encoded data removed]",
            "text/plain": [
              "<IPython.core.display.Image object>"
            ]
          },
          "metadata": {
            "tags": []
          },
          "execution_count": 19
        }
      ]
    },
    {
      "cell_type": "code",
      "metadata": {
        "id": "QMcdJR6jsQ6U"
      },
      "source": [
        "# save all of our data structures\n",
        "import pickle\n",
        "pickle.dump( {'vocab':vocab, 'classes':classes, 'train_x':train_x, 'train_y':train_y}, open( \"training_data\", \"wb\" ) )\n"
      ],
      "execution_count": 20,
      "outputs": []
    },
    {
      "cell_type": "code",
      "metadata": {
        "id": "t_knS9xVsery"
      },
      "source": [
        "#restore all of our data structures\n",
        "import pickle\n",
        "data = pickle.load( open( \"training_data\", \"rb\" ) )\n",
        "vocab = data['vocab']\n",
        "classes = data['classes']\n",
        "train_x = data['train_x']\n",
        "train_y = data['train_y']\n",
        "\n",
        "# import our chat-bot intents file\n",
        "import json\n",
        "with open('/content/drive/My Drive/NLP Project/compute help desk.json') as json_data:\n",
        "    intents = json.load(json_data)"
      ],
      "execution_count": 21,
      "outputs": []
    },
    {
      "cell_type": "code",
      "metadata": {
        "id": "oQH7JoHMs57T"
      },
      "source": [
        "# convert user input to BOW\n",
        "def clean_up_sentence(sentence):\n",
        "    # tokenize the pattern\n",
        "    sentence_words = nltk.word_tokenize(sentence)\n",
        "    # stem each word\n",
        "    sentence_words = [stemmer.stem(word.lower()) for word in sentence_words]\n",
        "    return sentence_words\n",
        "\n",
        "# return bag of words array: 0 or 1 for each word in the bag that exists in the sentence\n",
        "def bow(sentence, words, show_details=False):\n",
        "    # tokenize the pattern\n",
        "    sentence_words = clean_up_sentence(sentence)\n",
        "    # bag of words\n",
        "    bag = [0]*len(words)  \n",
        "    for s in sentence_words:\n",
        "        for i,w in enumerate(words):\n",
        "            if w == s: \n",
        "                bag[i] = 1\n",
        "                if show_details:\n",
        "                    print (\"found in bag: %s\" % w)\n",
        "    bag = np.array(bag)\n",
        "    bag= bag.tolist()\n",
        "    return(bag)"
      ],
      "execution_count": 22,
      "outputs": []
    },
    {
      "cell_type": "code",
      "metadata": {
        "id": "xYuUsY3eRMvB"
      },
      "source": [
        "words"
      ],
      "execution_count": null,
      "outputs": []
    },
    {
      "cell_type": "code",
      "metadata": {
        "id": "oacTYVgZsWOq"
      },
      "source": [
        "data['vocab']"
      ],
      "execution_count": null,
      "outputs": []
    },
    {
      "cell_type": "code",
      "metadata": {
        "id": "eJQ8vc9ws7iD",
        "outputId": "4eef5d72-e677-4389-b405-28b98000a224",
        "colab": {
          "base_uri": "https://localhost:8080/",
          "height": 55
        }
      },
      "source": [
        "x = bow(\"password reset issue\",vocab)\n",
        "print(x)"
      ],
      "execution_count": 27,
      "outputs": [
        {
          "output_type": "stream",
          "text": [
            "[0, 0, 0, 0, 0, 0, 0, 0, 0, 0, 0, 0, 0, 0, 0, 0, 0, 0, 0, 0, 0, 0, 0, 0, 0, 0, 0, 0, 0, 0, 0, 0, 0, 0, 0, 0, 0, 0, 0, 0, 0, 0, 0, 0, 0, 0, 0, 0, 0, 0, 0, 0, 0, 0, 0, 0, 0, 0, 0, 0, 1, 0, 0, 0, 0, 0, 0, 0, 0, 0, 0, 0, 0, 0, 0, 0, 0, 0, 0, 0, 0, 0, 0, 0, 0, 0, 0, 1, 0, 0, 0, 0, 0, 0, 0, 0, 0, 0, 1, 0, 0, 0, 0, 0, 0, 0, 0, 0, 0, 0, 0, 0, 0, 0, 0, 0, 0, 0, 0, 0, 0, 0, 0, 0, 0, 0, 0, 0, 0, 0, 0, 0, 0, 0, 0, 0, 0]\n"
          ],
          "name": "stdout"
        }
      ]
    },
    {
      "cell_type": "code",
      "metadata": {
        "id": "w8oUbM_AD_vr"
      },
      "source": [
        "#p = p.tolist()"
      ],
      "execution_count": null,
      "outputs": []
    },
    {
      "cell_type": "code",
      "metadata": {
        "id": "C36Pesl5zJGy",
        "outputId": "1fc2fff0-8769-447d-9840-7fe3f7871607",
        "colab": {
          "base_uri": "https://localhost:8080/",
          "height": 55
        }
      },
      "source": [
        "a = bow(\"hello\",words)\n",
        "print(a)"
      ],
      "execution_count": null,
      "outputs": [
        {
          "output_type": "stream",
          "text": [
            "[0, 0, 0, 0, 0, 0, 0, 0, 0, 0, 0, 0, 0, 0, 0, 0, 0, 0, 0, 0, 0, 0, 0, 0, 0, 0, 0, 0, 0, 0, 0, 0, 0, 0, 0, 0, 0, 0, 0, 0, 0, 0, 0, 0, 0, 0, 1, 0, 0, 0, 0, 0, 0, 0, 0, 0, 0, 0, 0, 0, 0, 0, 0, 0, 0, 0, 0, 0, 0, 0, 0, 0, 0, 0, 0, 0, 0, 0, 0, 0, 0, 0, 0, 0, 0, 0, 0, 0, 0, 0, 0, 0, 0, 0, 0, 0, 0, 0, 0, 0, 0, 0, 0, 0, 0, 0, 0, 0, 0, 0, 0, 0, 0, 0, 0, 0, 0, 0, 0, 0, 0, 0, 0, 0, 0, 0, 0, 0, 0, 0, 0, 0, 0, 0, 0, 0, 0]\n"
          ],
          "name": "stdout"
        }
      ]
    },
    {
      "cell_type": "code",
      "metadata": {
        "id": "MITIC56AtHl1"
      },
      "source": [
        "rate = 0.25\n",
        "def classify(sentence):\n",
        "    # generate probabilities from the model\n",
        "    results = model.predict([bow(sentence, vocab)])[0]\n",
        "    print(results)\n",
        "    # filter out predictions below a threshold\n",
        "    results = [[i,r] for i,r in enumerate(results) if r>rate]\n",
        "    # sort by strength of probability\n",
        "    results.sort(key=lambda x: x[1], reverse=True)\n",
        "    return_list = []\n",
        "    for r in results:\n",
        "        return_list.append((classes[r[0]], r[1]))\n",
        "    \n",
        "    return return_list\n",
        "\n",
        "def response(sentence, userID='123', show_details=False):\n",
        "    results = classify(sentence)\n",
        "    # if we have a classification then find the matching intent tag\n",
        "    if results:\n",
        "        # loop as long as there are matches to process\n",
        "        while results:\n",
        "            for i in intents['intents']:\n",
        "                # find a tag matching the first result\n",
        "                if i['tag'] == results[0][0]:\n",
        "                    # a random response from the intent\n",
        "                    return print(random.choice(i['responses']))\n",
        "\n",
        "            results.pop(0)"
      ],
      "execution_count": 25,
      "outputs": []
    },
    {
      "cell_type": "code",
      "metadata": {
        "id": "euJBxJoJaXxS",
        "outputId": "37e9b130-46d2-41a2-8f5d-9a44e4456b98",
        "colab": {
          "base_uri": "https://localhost:8080/",
          "height": 144
        }
      },
      "source": [
        "classify(\"forgot password\")"
      ],
      "execution_count": 26,
      "outputs": [
        {
          "output_type": "stream",
          "text": [
            "WARNING:tensorflow:Model was constructed with shape (None, None, 137) for input Tensor(\"dense_input:0\", shape=(None, None, 137), dtype=float32), but it was called on an input with incompatible shape (None, 137).\n",
            "[5.9494157e-03 3.1161769e-03 4.4338574e-04 1.0089382e-06 9.6163362e-01\n",
            " 1.5690057e-04 3.3022756e-05 1.5246590e-04 9.0422918e-04 3.7228292e-05\n",
            " 7.5558200e-03 7.4955262e-03 7.5809639e-03 3.8571228e-04 2.9704487e-03\n",
            " 7.5143784e-05 9.4487390e-05 1.4144221e-03]\n"
          ],
          "name": "stdout"
        },
        {
          "output_type": "execute_result",
          "data": {
            "text/plain": [
              "[('Password Reset', 0.9616336)]"
            ]
          },
          "metadata": {
            "tags": []
          },
          "execution_count": 26
        }
      ]
    },
    {
      "cell_type": "code",
      "metadata": {
        "id": "JDQxIniiMl4Q",
        "outputId": "fa0a867e-4195-4e9b-ce32-af9dc614372c",
        "colab": {
          "base_uri": "https://localhost:8080/",
          "height": 159
        }
      },
      "source": [
        "def start_chat():\n",
        "  print(\":start\")\n",
        "  while True:\n",
        "    inp = input(\"me:\")\n",
        "    if inp.lower() == \"quit\":\n",
        "      \n",
        "      break\n",
        "\n",
        "    result = model.predict([[bow(inp,words)]])\n",
        "    \n",
        "    result_ind = np.argmax(result)\n",
        "    tag = classes[result_ind]\n",
        "    \n",
        "    for tg in intents[\"intents\"]:\n",
        "      if tg[\"tag\"] == tag:\n",
        "        responses = tg[\"responses\"]\n",
        "\n",
        "    print(random.choice(responses))\n",
        "    \n",
        "\n",
        "\n",
        "start_chat()"
      ],
      "execution_count": null,
      "outputs": [
        {
          "output_type": "stream",
          "text": [
            ":start\n",
            "me:how to fix internet\n",
            "Happy to help\n",
            "me:no thanks\n",
            "My pleasure! Any other Issues I can help with?\n",
            "me:thanks bye\n",
            "Happy to help! Any other issues?\n",
            "me:quit\n"
          ],
          "name": "stdout"
        }
      ]
    },
    {
      "cell_type": "code",
      "metadata": {
        "id": "xdqwsuZWNRmo",
        "outputId": "8a4feee2-8eeb-461d-ad72-356859c92982",
        "colab": {
          "base_uri": "https://localhost:8080/",
          "height": 106
        }
      },
      "source": [
        "classify(\"no internet\")"
      ],
      "execution_count": null,
      "outputs": [
        {
          "output_type": "stream",
          "text": [
            "[3.7960336e-04 2.2893853e-02 8.8709295e-03 1.8906398e-02 8.2047045e-04\n",
            " 7.1274908e-04 4.5966650e-03 2.2354713e-01 1.0124195e-02 6.8057161e-03\n",
            " 4.1160408e-02 2.5046514e-03 5.1433342e-03 2.2785766e-01 4.0274301e-01\n",
            " 6.7561702e-04 1.7117573e-02 5.1400145e-03]\n"
          ],
          "name": "stdout"
        },
        {
          "output_type": "execute_result",
          "data": {
            "text/plain": [
              "[('greeting', 0.402743)]"
            ]
          },
          "metadata": {
            "tags": []
          },
          "execution_count": 58
        }
      ]
    },
    {
      "cell_type": "code",
      "metadata": {
        "id": "NPAIHdDMGe2i",
        "outputId": "e93aae17-ee40-4e6c-e366-569a625d50cd",
        "colab": {
          "base_uri": "https://localhost:8080/",
          "height": 88
        }
      },
      "source": [
        "classify(\"how to fix internet\")"
      ],
      "execution_count": null,
      "outputs": [
        {
          "output_type": "stream",
          "text": [
            "[0.00239417 0.11286639 0.00534646 0.01295691 0.00628141 0.00318066\n",
            " 0.01708726 0.15098771 0.00623795 0.02179063 0.09058343 0.00894386\n",
            " 0.01329139 0.20899822 0.16422486 0.00499671 0.15808937 0.01174257]\n"
          ],
          "name": "stdout"
        },
        {
          "output_type": "execute_result",
          "data": {
            "text/plain": [
              "[]"
            ]
          },
          "metadata": {
            "tags": []
          },
          "execution_count": 73
        }
      ]
    },
    {
      "cell_type": "code",
      "metadata": {
        "id": "XkkYs7xbRNkj",
        "outputId": "2141c664-4218-436b-c0a3-40a00f3e159a",
        "colab": {
          "base_uri": "https://localhost:8080/",
          "height": 55
        }
      },
      "source": [
        "for i in intents[\"intents\"]:\n",
        "  if i[\"tag\"] == \"greeting\":\n",
        "    responses = i[\"responses\"]\n",
        "print(responses)"
      ],
      "execution_count": null,
      "outputs": [
        {
          "output_type": "stream",
          "text": [
            "['Hello, Welcome to Our IT Chatbot', 'Good to see you, Welcome to our IT Chatbot', 'Hi there, how can I help?']\n"
          ],
          "name": "stdout"
        }
      ]
    },
    {
      "cell_type": "code",
      "metadata": {
        "id": "aROoPPQ5tJTM",
        "outputId": "f586ceab-9d55-4b6c-a269-19066246db44",
        "colab": {
          "base_uri": "https://localhost:8080/",
          "height": 106
        }
      },
      "source": [
        "classify('password reset not working')\n"
      ],
      "execution_count": null,
      "outputs": [
        {
          "output_type": "stream",
          "text": [
            "[7.4768193e-02 1.3664481e-04 3.5664258e-03 2.5261484e-02 8.4836531e-01\n",
            " 3.8640248e-03 6.8537309e-04 5.7858557e-07 2.4700552e-04 3.8341922e-04\n",
            " 2.6615470e-04 1.5436683e-02 1.1826526e-02 2.4873967e-04 1.9195255e-05\n",
            " 1.4117069e-02 1.5349139e-04 6.5375183e-04]\n"
          ],
          "name": "stdout"
        },
        {
          "output_type": "execute_result",
          "data": {
            "text/plain": [
              "[('Password Reset', 0.8483653)]"
            ]
          },
          "metadata": {
            "tags": []
          },
          "execution_count": 76
        }
      ]
    },
    {
      "cell_type": "code",
      "metadata": {
        "id": "3bOWH4tjfTCt",
        "outputId": "609ebaf5-8a8e-4185-c779-6d59414262e1",
        "colab": {
          "base_uri": "https://localhost:8080/",
          "height": 106
        }
      },
      "source": [
        "classify(\"how to get rid of virus\")"
      ],
      "execution_count": null,
      "outputs": [
        {
          "output_type": "stream",
          "text": [
            "[2.2727030e-03 2.1903118e-02 2.9053682e-04 1.0953891e-02 4.1150925e-01\n",
            " 6.9371090e-05 5.8179919e-04 1.5078457e-05 9.5282972e-05 2.1308531e-05\n",
            " 6.8821008e-03 3.4629211e-03 4.7281271e-01 4.7690231e-02 1.3426101e-03\n",
            " 4.6567908e-03 1.5346044e-02 9.4335228e-05]\n"
          ],
          "name": "stdout"
        },
        {
          "output_type": "execute_result",
          "data": {
            "text/plain": [
              "[('Virus', 0.4728127), ('Password Reset', 0.41150925)]"
            ]
          },
          "metadata": {
            "tags": []
          },
          "execution_count": 71
        }
      ]
    },
    {
      "cell_type": "code",
      "metadata": {
        "id": "BYXxHohBtVic",
        "outputId": "69f38afc-d98b-4f58-b32a-1be5a51d86d8",
        "colab": {
          "base_uri": "https://localhost:8080/",
          "height": 124
        }
      },
      "source": [
        "classify(\"keyboard not working\")"
      ],
      "execution_count": null,
      "outputs": [
        {
          "output_type": "stream",
          "text": [
            "[1.32862534e-02 4.09620209e-03 2.84826402e-02 3.13553810e-01\n",
            " 3.49272019e-03 4.77488078e-02 2.81457393e-03 1.42018562e-02\n",
            " 1.18241325e-01 1.44696550e-03 7.24977478e-02 3.31044763e-01\n",
            " 3.45820300e-02 1.15754257e-03 4.18113358e-03 1.30365882e-03\n",
            " 1.11196750e-04 7.75681250e-03]\n"
          ],
          "name": "stdout"
        },
        {
          "output_type": "execute_result",
          "data": {
            "text/plain": [
              "[('Vague', 0.33104476), ('Mouse', 0.3135538)]"
            ]
          },
          "metadata": {
            "tags": []
          },
          "execution_count": 77
        }
      ]
    }
  ]
}